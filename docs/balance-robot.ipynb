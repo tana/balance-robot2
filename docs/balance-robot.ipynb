{
 "cells": [
  {
   "cell_type": "code",
   "execution_count": 1,
   "id": "580ce7f5-0818-46e3-9723-6010a2424986",
   "metadata": {},
   "outputs": [],
   "source": [
    "from sympy import *\n",
    "# Use dot for derivative\n",
    "# https://stackoverflow.com/questions/25346132/is-it-possible-to-implement-newtons-dot-notation-or-lagranges-prime-notation\n",
    "from sympy.physics.mechanics import dynamicsymbols, init_vprinting, vlatex\n",
    "init_vprinting()"
   ]
  },
  {
   "cell_type": "code",
   "execution_count": 2,
   "id": "516f4fe8-3971-4a75-868d-7d13e4fecb32",
   "metadata": {},
   "outputs": [],
   "source": [
    "g = symbols('g', real=True)\n",
    "t = Symbol('t')\n",
    "m, I, m_w, I_w, r, h = symbols('m I m_w I_w r h', real=True)\n",
    "x, y, x_w, y_w, theta, phi = dynamicsymbols('x y x_w y_w theta phi')\n",
    "theta_dot = diff(theta, t)\n",
    "theta_ddot = diff(theta_dot, t)\n",
    "phi_dot = diff(phi, t)\n",
    "phi_ddot = diff(phi_dot, t)"
   ]
  },
  {
   "cell_type": "code",
   "execution_count": 3,
   "id": "5a052a24-1300-4d62-95d6-c80af5baffb3",
   "metadata": {},
   "outputs": [],
   "source": [
    "x_w_dot = r*(theta_dot + phi_dot)\n",
    "y_w_dot = 0"
   ]
  },
  {
   "cell_type": "code",
   "execution_count": 4,
   "id": "fd839d10-b012-47f7-8368-33f0d15f62ae",
   "metadata": {},
   "outputs": [],
   "source": [
    "x_dot = x_w_dot + h*theta_dot*cos(theta)\n",
    "y_dot = -h*theta_dot*sin(theta)"
   ]
  },
  {
   "cell_type": "code",
   "execution_count": 5,
   "id": "9b4f096c-f7d9-4076-b493-1b65e733ff21",
   "metadata": {},
   "outputs": [
    {
     "data": {
      "image/png": "[encoded data removed]",
      "text/latex": [
       "$\\displaystyle \\frac{m_{w} r^{2} \\left(\\dot{\\phi} + \\dot{\\theta}\\right)^{2}}{2}$"
      ],
      "text/plain": [
       "     2        2\n",
       "m_w⋅r ⋅(φ̇ + θ̇) \n",
       "───────────────\n",
       "       2       "
      ]
     },
     "execution_count": 5,
     "metadata": {},
     "output_type": "execute_result"
    }
   ],
   "source": [
    "T_translation_wheel = Rational(1,2) * m_w * x_w_dot**2\n",
    "T_translation_wheel"
   ]
  },
  {
   "cell_type": "code",
   "execution_count": 6,
   "id": "00719960-dbee-4863-b199-2e8b46a5a879",
   "metadata": {},
   "outputs": [
    {
     "data": {
      "image/png": "[encoded data removed]",
      "text/latex": [
       "$\\displaystyle \\frac{m \\left(h^{2} \\dot{\\theta}^{2} + 2 h r \\cos{\\left(\\theta \\right)} \\dot{\\phi} \\dot{\\theta} + 2 h r \\cos{\\left(\\theta \\right)} \\dot{\\theta}^{2} + r^{2} \\dot{\\phi}^{2} + 2 r^{2} \\dot{\\phi} \\dot{\\theta} + r^{2} \\dot{\\theta}^{2}\\right)}{2}$"
      ],
      "text/plain": [
       "  ⎛ 2  2                                    2    2  2      2        2  2⎞\n",
       "m⋅⎝h ⋅θ̇  + 2⋅h⋅r⋅cos(θ)⋅φ̇⋅θ̇ + 2⋅h⋅r⋅cos(θ)⋅θ̇  + r ⋅φ̇  + 2⋅r ⋅φ̇⋅θ̇ + r ⋅θ̇ ⎠\n",
       "─────────────────────────────────────────────────────────────────────────\n",
       "                                    2                                    "
      ]
     },
     "execution_count": 6,
     "metadata": {},
     "output_type": "execute_result"
    }
   ],
   "source": [
    "T_translation_body = Rational(1,2) * m * simplify(expand((x_dot**2 + y_dot**2), trig=true))\n",
    "T_translation_body"
   ]
  },
  {
   "cell_type": "code",
   "execution_count": 7,
   "id": "dfcf821f-b519-417d-a02b-04bd554c83b8",
   "metadata": {},
   "outputs": [
    {
     "data": {
      "image/png": "[encoded data removed]",
      "text/latex": [
       "$\\displaystyle \\frac{m \\left(h^{2} \\dot{\\theta}^{2} + 2 h r \\cos{\\left(\\theta \\right)} \\dot{\\phi} \\dot{\\theta} + 2 h r \\cos{\\left(\\theta \\right)} \\dot{\\theta}^{2} + r^{2} \\dot{\\phi}^{2} + 2 r^{2} \\dot{\\phi} \\dot{\\theta} + r^{2} \\dot{\\theta}^{2}\\right)}{2} + \\frac{m_{w} r^{2} \\left(\\dot{\\phi} + \\dot{\\theta}\\right)^{2}}{2}$"
      ],
      "text/plain": [
       "  ⎛ 2  2                                    2    2  2      2        2  2⎞     \n",
       "m⋅⎝h ⋅θ̇  + 2⋅h⋅r⋅cos(θ)⋅φ̇⋅θ̇ + 2⋅h⋅r⋅cos(θ)⋅θ̇  + r ⋅φ̇  + 2⋅r ⋅φ̇⋅θ̇ + r ⋅θ\n",
       "───────────────────────────────────────────────────────────────────────── + ──\n",
       "                                    2                                         \n",
       "\n",
       "   2        2\n",
       "̇ ⎠   m_w⋅r ⋅(φ̇ + θ̇) \n",
       "─────────────\n",
       "     2       "
      ]
     },
     "execution_count": 7,
     "metadata": {},
     "output_type": "execute_result"
    }
   ],
   "source": [
    "T_translation = T_translation_body + T_translation_wheel\n",
    "T_translation"
   ]
  },
  {
   "cell_type": "code",
   "execution_count": 8,
   "id": "b0a48231-5ecb-4b08-92c3-3b90b6b601f4",
   "metadata": {},
   "outputs": [
    {
     "data": {
      "image/png": "[encoded data removed]",
      "text/latex": [
       "$\\displaystyle \\frac{I \\dot{\\theta}^{2}}{2} + \\frac{I_{w} \\left(\\dot{\\phi} + \\dot{\\theta}\\right)^{2}}{2}$"
      ],
      "text/plain": [
       "   2              2\n",
       "I⋅θ̇    I_w⋅(φ̇ + θ̇) \n",
       "──── + ────────────\n",
       " 2          2      "
      ]
     },
     "execution_count": 8,
     "metadata": {},
     "output_type": "execute_result"
    }
   ],
   "source": [
    "T_rotation = Rational(1,2) * I * theta_dot**2 + Rational(1,2) * I_w * (theta_dot + phi_dot)**2\n",
    "T_rotation"
   ]
  },
  {
   "cell_type": "code",
   "execution_count": 9,
   "id": "cc42cfbf-aad1-4d38-8e72-4278b4e5bcb0",
   "metadata": {},
   "outputs": [
    {
     "data": {
      "image/png": "[encoded data removed]",
      "text/latex": [
       "$\\displaystyle \\frac{I \\dot{\\theta}^{2}}{2} + \\frac{I_{w} \\left(\\dot{\\phi} + \\dot{\\theta}\\right)^{2}}{2} + \\frac{m \\left(h^{2} \\dot{\\theta}^{2} + 2 h r \\cos{\\left(\\theta \\right)} \\dot{\\phi} \\dot{\\theta} + 2 h r \\cos{\\left(\\theta \\right)} \\dot{\\theta}^{2} + r^{2} \\dot{\\phi}^{2} + 2 r^{2} \\dot{\\phi} \\dot{\\theta} + r^{2} \\dot{\\theta}^{2}\\right)}{2} + \\frac{m_{w} r^{2} \\left(\\dot{\\phi} + \\dot{\\theta}\\right)^{2}}{2}$"
      ],
      "text/plain": [
       "   2              2     ⎛ 2  2                                    2    2  2   \n",
       "I⋅θ̇    I_w⋅(φ̇ + θ̇)    m⋅⎝h ⋅θ̇  + 2⋅h⋅r⋅cos(θ)⋅φ̇⋅θ̇ + 2⋅h⋅r⋅cos(θ)⋅θ̇  + r\n",
       "──── + ──────────── + ────────────────────────────────────────────────────────\n",
       " 2          2                                             2                   \n",
       "\n",
       "   2        2  2⎞        2        2\n",
       " ⋅φ̇  + 2⋅r ⋅φ̇⋅θ̇ + r ⋅θ̇ ⎠   m_w⋅r ⋅(φ̇ + θ̇) \n",
       "───────────────── + ───────────────\n",
       "                           2       "
      ]
     },
     "execution_count": 9,
     "metadata": {},
     "output_type": "execute_result"
    }
   ],
   "source": [
    "T = T_translation + T_rotation\n",
    "T"
   ]
  },
  {
   "cell_type": "code",
   "execution_count": 10,
   "id": "716f8953-1a4b-4939-9deb-5b73942d2db2",
   "metadata": {},
   "outputs": [
    {
     "name": "stdout",
     "output_type": "stream",
     "text": [
      "\\frac{I \\dot{\\theta}^{2}}{2} + \\frac{I_{w} \\left(\\dot{\\phi} + \\dot{\\theta}\\right)^{2}}{2} + \\frac{m \\left(h^{2} \\dot{\\theta}^{2} + 2 h r \\cos{\\left(\\theta \\right)} \\dot{\\phi} \\dot{\\theta} + 2 h r \\cos{\\left(\\theta \\right)} \\dot{\\theta}^{2} + r^{2} \\dot{\\phi}^{2} + 2 r^{2} \\dot{\\phi} \\dot{\\theta} + r^{2} \\dot{\\theta}^{2}\\right)}{2} + \\frac{m_{w} r^{2} \\left(\\dot{\\phi} + \\dot{\\theta}\\right)^{2}}{2}\n"
     ]
    }
   ],
   "source": [
    "print(vlatex(T))"
   ]
  },
  {
   "cell_type": "code",
   "execution_count": 11,
   "id": "0dcdb5d2-3b1f-497a-ae37-5105ef0665de",
   "metadata": {},
   "outputs": [],
   "source": [
    "U = m*g*(r + h*cos(theta))"
   ]
  },
  {
   "cell_type": "code",
   "execution_count": 12,
   "id": "9a1fb957-727d-4faa-833d-9d4cc472af4e",
   "metadata": {},
   "outputs": [
    {
     "data": {
      "image/png": "[encoded data removed]",
      "text/latex": [
       "$\\displaystyle \\frac{I \\dot{\\theta}^{2}}{2} + \\frac{I_{w} \\left(\\dot{\\phi} + \\dot{\\theta}\\right)^{2}}{2} - g m \\left(h \\cos{\\left(\\theta \\right)} + r\\right) + \\frac{m \\left(h^{2} \\dot{\\theta}^{2} + 2 h r \\cos{\\left(\\theta \\right)} \\dot{\\phi} \\dot{\\theta} + 2 h r \\cos{\\left(\\theta \\right)} \\dot{\\theta}^{2} + r^{2} \\dot{\\phi}^{2} + 2 r^{2} \\dot{\\phi} \\dot{\\theta} + r^{2} \\dot{\\theta}^{2}\\right)}{2} + \\frac{m_{w} r^{2} \\left(\\dot{\\phi} + \\dot{\\theta}\\right)^{2}}{2}$"
      ],
      "text/plain": [
       "   2              2                          ⎛ 2  2                           \n",
       "I⋅θ̇    I_w⋅(φ̇ + θ̇)                         m⋅⎝h ⋅θ̇  + 2⋅h⋅r⋅cos(θ)⋅φ̇⋅θ̇ +\n",
       "──── + ──────────── - g⋅m⋅(h⋅cos(θ) + r) + ───────────────────────────────────\n",
       " 2          2                                                                 \n",
       "\n",
       "         2    2  2      2        2  2⎞        2        2\n",
       " 2⋅h⋅r⋅cos(θ)⋅θ̇  + r ⋅φ̇  + 2⋅r ⋅φ̇⋅θ̇ + r ⋅θ̇ ⎠   m_w⋅r ⋅(φ̇ + θ̇) \n",
       "────────────────────────────────────── + ───────────────\n",
       " 2                                              2       "
      ]
     },
     "execution_count": 12,
     "metadata": {},
     "output_type": "execute_result"
    }
   ],
   "source": [
    "L = T - U\n",
    "L"
   ]
  },
  {
   "cell_type": "code",
   "execution_count": 13,
   "id": "e31375ad-04a4-4bb7-8c47-95bf1c60a730",
   "metadata": {},
   "outputs": [
    {
     "data": {
      "image/png": "[encoded data removed]",
      "text/latex": [
       "$\\displaystyle - g h m \\sin{\\left(\\theta \\right)} - h m r \\sin{\\left(\\theta \\right)} \\dot{\\theta}^{2} + \\left(I_{w} + h m r \\cos{\\left(\\theta \\right)} + m r^{2} + m_{w} r^{2}\\right) \\ddot{\\phi} + \\left(I + I_{w} + h^{2} m + 2 h m r \\cos{\\left(\\theta \\right)} + m r^{2} + m_{w} r^{2}\\right) \\ddot{\\theta}$"
      ],
      "text/plain": [
       "                              2   ⎛                        2        2⎞     ⎛  \n",
       "-g⋅h⋅m⋅sin(θ) - h⋅m⋅r⋅sin(θ)⋅θ̇  + ⎝I_w + h⋅m⋅r⋅cos(θ) + m⋅r  + m_w⋅r ⎠⋅φ̈ + ⎝\n",
       "\n",
       "         2                         2        2⎞  \n",
       "I + I_w + h ⋅m + 2⋅h⋅m⋅r⋅cos(θ) + m⋅r  + m_w⋅r ⎠⋅θ̈"
      ]
     },
     "execution_count": 13,
     "metadata": {},
     "output_type": "execute_result"
    }
   ],
   "source": [
    "equation = collect(\n",
    "    simplify(diff(diff(L, theta_dot), t) - diff(L, theta)),\n",
    "    [theta, phi, theta_dot, phi_dot, theta_ddot, phi_ddot]\n",
    ")\n",
    "equation"
   ]
  },
  {
   "cell_type": "code",
   "execution_count": 14,
   "id": "f61b7a8e-5c3b-41c1-b105-e6bd5fc3c5ba",
   "metadata": {},
   "outputs": [
    {
     "name": "stdout",
     "output_type": "stream",
     "text": [
      "- g h m \\sin{\\left(\\theta \\right)} - h m r \\sin{\\left(\\theta \\right)} \\dot{\\theta}^{2} + \\left(I_{w} + h m r \\cos{\\left(\\theta \\right)} + m r^{2} + m_{w} r^{2}\\right) \\ddot{\\phi} + \\left(I + I_{w} + h^{2} m + 2 h m r \\cos{\\left(\\theta \\right)} + m r^{2} + m_{w} r^{2}\\right) \\ddot{\\theta}\n"
     ]
    }
   ],
   "source": [
    "print(vlatex(equation))"
   ]
  },
  {
   "cell_type": "code",
   "execution_count": 15,
   "id": "958d4f28-5ad1-4340-b5c1-1f3af562bedf",
   "metadata": {},
   "outputs": [
    {
     "data": {
      "image/png": "[encoded data removed]",
      "text/latex": [
       "$\\displaystyle - g h m \\theta + \\left(I_{w} + h m r + m r^{2} + m_{w} r^{2}\\right) \\ddot{\\phi} + \\left(I + I_{w} + h^{2} m + 2 h m r + m r^{2} + m_{w} r^{2}\\right) \\ddot{\\theta}$"
      ],
      "text/plain": [
       "           ⎛                 2        2⎞     ⎛           2                  2 \n",
       "-g⋅h⋅m⋅θ + ⎝I_w + h⋅m⋅r + m⋅r  + m_w⋅r ⎠⋅φ̈ + ⎝I + I_w + h ⋅m + 2⋅h⋅m⋅r + m⋅r \n",
       "\n",
       "       2⎞  \n",
       " + m_w⋅r ⎠⋅θ̈"
      ]
     },
     "execution_count": 15,
     "metadata": {},
     "output_type": "execute_result"
    }
   ],
   "source": [
    "equation_lin = equation.subs([(sin(theta), theta), (cos(theta), 1), (theta_dot**2, 0)])\n",
    "equation_lin"
   ]
  },
  {
   "cell_type": "code",
   "execution_count": 16,
   "id": "a32dfa03-39d1-468c-8c1b-06249ac929b2",
   "metadata": {},
   "outputs": [
    {
     "name": "stdout",
     "output_type": "stream",
     "text": [
      "- g h m \\theta + \\left(I_{w} + h m r + m r^{2} + m_{w} r^{2}\\right) \\ddot{\\phi} + \\left(I + I_{w} + h^{2} m + 2 h m r + m r^{2} + m_{w} r^{2}\\right) \\ddot{\\theta}\n"
     ]
    }
   ],
   "source": [
    "print(vlatex(equation_lin))"
   ]
  },
  {
   "cell_type": "code",
   "execution_count": 17,
   "id": "381c4db4-3922-4f3c-925a-4ce92fc59412",
   "metadata": {},
   "outputs": [
    {
     "data": {
      "image/png": "[encoded data removed]",
      "text/latex": [
       "$\\displaystyle \\frac{- I_{w} \\ddot{\\phi} + g h m \\theta - h m r \\ddot{\\phi} - m r^{2} \\ddot{\\phi} - m_{w} r^{2} \\ddot{\\phi}}{I + I_{w} + h^{2} m + 2 h m r + m r^{2} + m_{w} r^{2}}$"
      ],
      "text/plain": [
       "                                2          2  \n",
       "-I_w⋅φ̈ + g⋅h⋅m⋅θ - h⋅m⋅r⋅φ̈ - m⋅r ⋅φ̈ - m_w⋅r ⋅φ̈\n",
       "──────────────────────────────────────────────\n",
       "              2                  2        2   \n",
       "   I + I_w + h ⋅m + 2⋅h⋅m⋅r + m⋅r  + m_w⋅r    "
      ]
     },
     "execution_count": 17,
     "metadata": {},
     "output_type": "execute_result"
    }
   ],
   "source": [
    "theta_ddot_eq = solve(equation_lin, theta_ddot)[0]\n",
    "theta_ddot_eq"
   ]
  },
  {
   "cell_type": "code",
   "execution_count": 18,
   "id": "39b062ae-a550-4466-961d-c2b2a1b78ed8",
   "metadata": {},
   "outputs": [
    {
     "data": {
      "image/png": "[encoded data removed]",
      "text/latex": [
       "$\\displaystyle \\frac{- I_{w} - h m r - m r^{2} - m_{w} r^{2}}{I + I_{w} + h^{2} m + 2 h m r + m r^{2} + m_{w} r^{2}}$"
      ],
      "text/plain": [
       "                        2        2      \n",
       "      -I_w - h⋅m⋅r - m⋅r  - m_w⋅r       \n",
       "────────────────────────────────────────\n",
       "           2                  2        2\n",
       "I + I_w + h ⋅m + 2⋅h⋅m⋅r + m⋅r  + m_w⋅r "
      ]
     },
     "execution_count": 18,
     "metadata": {},
     "output_type": "execute_result"
    }
   ],
   "source": [
    "b = diff(theta_ddot_eq, phi_ddot)\n",
    "b"
   ]
  },
  {
   "cell_type": "code",
   "execution_count": 19,
   "id": "8461e4fa-cd0f-4109-8d56-36820431090e",
   "metadata": {},
   "outputs": [
    {
     "name": "stdout",
     "output_type": "stream",
     "text": [
      "\\frac{- I_{w} - h m r - m r^{2} - m_{w} r^{2}}{I + I_{w} + h^{2} m + 2 h m r + m r^{2} + m_{w} r^{2}}\n"
     ]
    }
   ],
   "source": [
    "print(vlatex(b))"
   ]
  },
  {
   "cell_type": "code",
   "execution_count": 20,
   "id": "be5fb320-60eb-4761-9954-5dd0c6723ead",
   "metadata": {},
   "outputs": [
    {
     "data": {
      "image/png": "[encoded data removed]",
      "text/latex": [
       "$\\displaystyle \\frac{g h m}{I + I_{w} + h^{2} m + 2 h m r + m r^{2} + m_{w} r^{2}}$"
      ],
      "text/plain": [
       "                 g⋅h⋅m                  \n",
       "────────────────────────────────────────\n",
       "           2                  2        2\n",
       "I + I_w + h ⋅m + 2⋅h⋅m⋅r + m⋅r  + m_w⋅r "
      ]
     },
     "execution_count": 20,
     "metadata": {},
     "output_type": "execute_result"
    }
   ],
   "source": [
    "a = diff(theta_ddot_eq, theta)\n",
    "a"
   ]
  },
  {
   "cell_type": "code",
   "execution_count": 21,
   "id": "8d460e5c-1710-4d36-a46b-9072231577ea",
   "metadata": {},
   "outputs": [
    {
     "name": "stdout",
     "output_type": "stream",
     "text": [
      "\\frac{g h m}{I + I_{w} + h^{2} m + 2 h m r + m r^{2} + m_{w} r^{2}}\n"
     ]
    }
   ],
   "source": [
    "print(vlatex(a))"
   ]
  },
  {
   "cell_type": "code",
   "execution_count": 22,
   "id": "771ad0af-f83e-4ec8-ad10-3020b7b8f0eb",
   "metadata": {},
   "outputs": [
    {
     "name": "stdout",
     "output_type": "stream",
     "text": [
      "a = 22.6443895687399\n",
      "b = -0.774824387837912\n"
     ]
    }
   ],
   "source": [
    "numeric_params = {\n",
    "    m: 181.731, I: 61096.991,\n",
    "    r: 60, m_w: 21.994, I_w: 13319.524,\n",
    "    h: 14.924,\n",
    "    g: 9800\n",
    "}\n",
    "a_num = a.evalf(subs=numeric_params)\n",
    "b_num = b.evalf(subs=numeric_params)\n",
    "print('a =', a_num)\n",
    "print('b =', b_num)"
   ]
  },
  {
   "cell_type": "code",
   "execution_count": 23,
   "id": "3113cd42-c0d3-467c-a8b3-4cde6ac692ef",
   "metadata": {},
   "outputs": [],
   "source": [
    "import numpy as np\n",
    "import control"
   ]
  },
  {
   "cell_type": "code",
   "execution_count": 24,
   "id": "dd49c81b-31f2-472e-854e-4d44a3c9f180",
   "metadata": {},
   "outputs": [],
   "source": [
    "A_mat = np.array([\n",
    "    [0, 1, 0],\n",
    "    [a_num, 0, 0],\n",
    "    [0, 0, 0]\n",
    "])\n",
    "B_mat = np.array([\n",
    "    [0],\n",
    "    [b_num],\n",
    "    [1]\n",
    "])"
   ]
  },
  {
   "cell_type": "code",
   "execution_count": 25,
   "id": "084bf7e7-30cc-4b2b-84eb-9805c78fe6e9",
   "metadata": {},
   "outputs": [
    {
     "data": {
      "text/plain": [
       "3"
      ]
     },
     "execution_count": 25,
     "metadata": {},
     "output_type": "execute_result"
    }
   ],
   "source": [
    "np.linalg.matrix_rank(control.ctrb(A_mat, B_mat))"
   ]
  },
  {
   "cell_type": "code",
   "execution_count": 193,
   "id": "e683c5d9-5578-43df-ac6d-bce2f56afce1",
   "metadata": {},
   "outputs": [
    {
     "name": "stdout",
     "output_type": "stream",
     "text": [
      "K = [[-280.74261026  -89.66049857  -10.        ]]\n",
      "E = [-56.06732134+0.j          -1.70190979+1.06877911j\n",
      "  -1.70190979-1.06877911j]\n"
     ]
    }
   ],
   "source": [
    "#Q_mat = np.diag([1.0, 0.1, 1.0])\n",
    "#R_mat = np.diag([0.1])\n",
    "Q_mat = np.diag([100.0, 50.0, 1.0])\n",
    "R_mat = np.diag([0.01])\n",
    "K, S, E = control.lqr(A_mat, B_mat, Q_mat, R_mat)\n",
    "print('K =', K)\n",
    "print('E =', E)"
   ]
  },
  {
   "cell_type": "code",
   "execution_count": 194,
   "id": "79ba182c-e63d-4967-a611-bd7c93a7a238",
   "metadata": {},
   "outputs": [],
   "source": [
    "import matplotlib.pyplot as plt"
   ]
  },
  {
   "cell_type": "code",
   "execution_count": 199,
   "id": "16718586-4525-4c20-a30b-afb9921aea5e",
   "metadata": {},
   "outputs": [
    {
     "data": {
      "image/png": "[encoded data removed]",
      "text/plain": [
       "<Figure size 432x288 with 2 Axes>"
      ]
     },
     "metadata": {
      "needs_background": "light"
     },
     "output_type": "display_data"
    }
   ],
   "source": [
    "state = np.array([10 * np.pi / 180, 0.0, 0.0])\n",
    "dt = 0.01\n",
    "t_array = np.arange(0, 5, dt)\n",
    "theta_array = np.empty_like(t_array)\n",
    "phi_dot_array = np.empty_like(t_array)\n",
    "for i, t in enumerate(t_array):\n",
    "    u = -K @ state\n",
    "    noise = np.random.multivariate_normal(mean=[0, 0, 0], cov=np.diag([0, 0.1, 10.0]))\n",
    "    diff_state = A_mat @ state + B_mat @ u + noise\n",
    "    state[:] = state + dt * diff_state\n",
    "    theta_array[i] = state[0]\n",
    "    phi_dot_array[i] = state[2]\n",
    "\n",
    "plt.plot(t_array, theta_array * 180 / np.pi, label=\"$\\\\theta$\", color='blue')\n",
    "plt.xlabel(\"time [s]\")\n",
    "plt.ylabel(\"$\\\\theta$ [deg]\")\n",
    "plt.legend()\n",
    "\n",
    "ax2 = plt.twinx()\n",
    "ax2.plot(t_array, phi_dot_array * 180 / np.pi, label=\"$\\\\dot{\\\\phi}$\", color='orange')\n",
    "ax2.set_ylabel(\"$\\\\dot{\\\\phi}$ [deg/s]\")\n",
    "ax2.legend()\n",
    "\n",
    "plt.show()"
   ]
  },
  {
   "cell_type": "code",
   "execution_count": 200,
   "id": "6a2a35f2-f052-46b4-ae3d-653702085095",
   "metadata": {},
   "outputs": [],
   "source": [
    "theta_ddot_eq_nonlin = solve(equation, theta_ddot)[0]\n",
    "theta_ddot_func = lambdify([theta, theta_dot, phi_ddot], theta_ddot_eq_nonlin.evalf(subs=numeric_params))\n",
    "\n",
    "def diff_state_func(state, u):\n",
    "    return np.array([state[1], theta_ddot_func(state[0], state[1], u[0]), u[0]])"
   ]
  },
  {
   "cell_type": "code",
   "execution_count": 201,
   "id": "ac84752e-91fa-47a4-a39c-9ca215426f3d",
   "metadata": {},
   "outputs": [
    {
     "data": {
      "image/png": "[encoded data removed]",
      "text/plain": [
       "<Figure size 432x288 with 2 Axes>"
      ]
     },
     "metadata": {
      "needs_background": "light"
     },
     "output_type": "display_data"
    }
   ],
   "source": [
    "state = np.array([10 * np.pi / 180, 0.0, 0.0])\n",
    "dt = 0.01\n",
    "t_array = np.arange(0, 5, dt)\n",
    "theta_array = np.empty_like(t_array)\n",
    "phi_dot_array = np.empty_like(t_array)\n",
    "for i, t in enumerate(t_array):\n",
    "    u = -K @ state\n",
    "    diff_state = diff_state_func(state, u)\n",
    "    state[:] = state + dt * diff_state\n",
    "    theta_array[i] = state[0]\n",
    "    phi_dot_array[i] = state[2]\n",
    "\n",
    "plt.plot(t_array, theta_array * 180 / np.pi, label=\"$\\\\theta$\", color='blue')\n",
    "plt.xlabel(\"time [s]\")\n",
    "plt.ylabel(\"$\\\\theta$ [deg]\")\n",
    "plt.legend()\n",
    "\n",
    "ax2 = plt.twinx()\n",
    "ax2.plot(t_array, phi_dot_array * 180 / np.pi, label=\"$\\\\dot{\\\\phi}$\", color='orange')\n",
    "ax2.set_ylabel(\"$\\\\dot{\\\\phi}$ [deg/s]\")\n",
    "ax2.legend()\n",
    "\n",
    "plt.show()"
   ]
  },
  {
   "cell_type": "code",
   "execution_count": null,
   "id": "f6fbc83a-e601-4aa9-8e11-3407443cf7c3",
   "metadata": {},
   "outputs": [],
   "source": []
  }
 ],
 "metadata": {
  "kernelspec": {
   "display_name": "Python 3",
   "language": "python",
   "name": "python3"
  },
  "language_info": {
   "codemirror_mode": {
    "name": "ipython",
    "version": 3
   },
   "file_extension": ".py",
   "mimetype": "text/x-python",
   "name": "python",
   "nbconvert_exporter": "python",
   "pygments_lexer": "ipython3",
   "version": "3.8.8"
  }
 },
 "nbformat": 4,
 "nbformat_minor": 5
}
